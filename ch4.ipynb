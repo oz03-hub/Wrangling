{
 "cells": [
  {
   "cell_type": "code",
   "execution_count": 1,
   "metadata": {},
   "outputs": [],
   "source": [
    "import os\n",
    "import pandas as pd\n",
    "import numpy as np"
   ]
  },
  {
   "cell_type": "code",
   "execution_count": 2,
   "metadata": {},
   "outputs": [],
   "source": [
    "path = 'datasets/bitlyusa.txt'"
   ]
  },
  {
   "cell_type": "code",
   "execution_count": 5,
   "metadata": {},
   "outputs": [],
   "source": [
    "import json\n",
    "\n",
    "with open(path) as f:\n",
    "    records = [json.loads(line) for line in f]"
   ]
  },
  {
   "cell_type": "code",
   "execution_count": 9,
   "metadata": {},
   "outputs": [],
   "source": [
    "time_zones = [rec['tz'] for rec in records if 'tz' in rec]"
   ]
  },
  {
   "cell_type": "code",
   "execution_count": 10,
   "metadata": {},
   "outputs": [],
   "source": [
    "times = np.asarray(time_zones)"
   ]
  },
  {
   "cell_type": "code",
   "execution_count": 12,
   "metadata": {},
   "outputs": [
    {
     "data": {
      "text/plain": [
       "array(['America/New_York', 'America/Denver', 'America/New_York',\n",
       "       'America/Sao_Paulo', 'America/New_York', 'America/New_York',\n",
       "       'Europe/Warsaw', '', '', ''], dtype='<U30')"
      ]
     },
     "execution_count": 12,
     "metadata": {},
     "output_type": "execute_result"
    }
   ],
   "source": [
    "times[:10]"
   ]
  },
  {
   "cell_type": "code",
   "execution_count": 13,
   "metadata": {},
   "outputs": [],
   "source": [
    "from collections import defaultdict\n",
    "\n",
    "def count_occurence(seq):\n",
    "    dct = defaultdict(int)\n",
    "\n",
    "    for s in seq:\n",
    "        dct[s] += 1\n",
    "    \n",
    "    return dct"
   ]
  },
  {
   "attachments": {},
   "cell_type": "markdown",
   "metadata": {},
   "source": [
    "We can find the number of search connections from all timezones"
   ]
  },
  {
   "cell_type": "code",
   "execution_count": null,
   "metadata": {},
   "outputs": [],
   "source": [
    "times_dict = count_occurence(times)\n",
    "times_dict"
   ]
  },
  {
   "attachments": {},
   "cell_type": "markdown",
   "metadata": {},
   "source": [
    "We can also focus on only American timezones as well"
   ]
  },
  {
   "cell_type": "code",
   "execution_count": 18,
   "metadata": {},
   "outputs": [
    {
     "data": {
      "text/plain": [
       "array(['New_York', 'Denver', 'New_York', ..., 'Denver', 'Los_Angeles',\n",
       "       'New_York'], dtype='<U13')"
      ]
     },
     "execution_count": 18,
     "metadata": {},
     "output_type": "execute_result"
    }
   ],
   "source": [
    "americas = np.array([s.split('/')[1] for s in times if 'America' in s])\n",
    "americas"
   ]
  },
  {
   "cell_type": "code",
   "execution_count": 19,
   "metadata": {},
   "outputs": [
    {
     "data": {
      "text/plain": [
       "defaultdict(int,\n",
       "            {'New_York': 1251,\n",
       "             'Denver': 191,\n",
       "             'Sao_Paulo': 33,\n",
       "             'Los_Angeles': 382,\n",
       "             'Chicago': 400,\n",
       "             'Mazatlan': 1,\n",
       "             'Vancouver': 12,\n",
       "             'Anchorage': 5,\n",
       "             'Rainy_River': 25,\n",
       "             'Phoenix': 20,\n",
       "             'Bogota': 3,\n",
       "             'Indianapolis': 20,\n",
       "             'Montreal': 9,\n",
       "             'Halifax': 4,\n",
       "             'Edmonton': 6,\n",
       "             'Recife': 2,\n",
       "             'Mexico_City': 15,\n",
       "             'Puerto_Rico': 10,\n",
       "             'Monterrey': 1,\n",
       "             'Winnipeg': 4,\n",
       "             'Argentina': 3,\n",
       "             'Caracas': 1,\n",
       "             'Montevideo': 1,\n",
       "             'Costa_Rica': 1,\n",
       "             'Lima': 1,\n",
       "             'Chihuahua': 2,\n",
       "             'Managua': 3,\n",
       "             'Guayaquil': 2,\n",
       "             'St_Kitts': 1,\n",
       "             'Santo_Domingo': 1,\n",
       "             'La_Paz': 1,\n",
       "             'Tegucigalpa': 1})"
      ]
     },
     "execution_count": 19,
     "metadata": {},
     "output_type": "execute_result"
    }
   ],
   "source": [
    "americas_dict = count_occurence(americas)\n",
    "americas_dict"
   ]
  },
  {
   "cell_type": "code",
   "execution_count": null,
   "metadata": {},
   "outputs": [],
   "source": []
  }
 ],
 "metadata": {
  "kernelspec": {
   "display_name": "base",
   "language": "python",
   "name": "python3"
  },
  "language_info": {
   "codemirror_mode": {
    "name": "ipython",
    "version": 3
   },
   "file_extension": ".py",
   "mimetype": "text/x-python",
   "name": "python",
   "nbconvert_exporter": "python",
   "pygments_lexer": "ipython3",
   "version": "3.9.13"
  },
  "orig_nbformat": 4,
  "vscode": {
   "interpreter": {
    "hash": "1631014bbab4a12849cbf69a96b53575de303096c68e357abc22baa50f6dbfae"
   }
  }
 },
 "nbformat": 4,
 "nbformat_minor": 2
}
