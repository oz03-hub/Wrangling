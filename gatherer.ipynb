{
 "cells": [
  {
   "cell_type": "code",
   "execution_count": 22,
   "metadata": {},
   "outputs": [],
   "source": [
    "import pandas as pd\n",
    "import numpy as np\n",
    "import yfinance as yf"
   ]
  },
  {
   "cell_type": "code",
   "execution_count": 42,
   "metadata": {},
   "outputs": [],
   "source": [
    "ticks = ['NVDA', 'MSFT', 'GOOG', 'AMZN', 'TSLA']\n",
    "ticks_arr = np.array([yf.Ticker(tck) for tck in ticks])\n",
    "ticks_hst = [tck.history() for tck in ticks_arr]\n"
   ]
  },
  {
   "cell_type": "code",
   "execution_count": 51,
   "metadata": {},
   "outputs": [],
   "source": [
    "lows = pd.DataFrame(index=ticks)\n",
    "lows.index.name = 'Stock'\n",
    "highs = pd.DataFrame(index=ticks)\n",
    "highs.index.name = 'Stock'\n",
    "volume = pd.DataFrame(index=ticks)\n",
    "volume.index.name = 'Stock'"
   ]
  },
  {
   "cell_type": "code",
   "execution_count": 52,
   "metadata": {},
   "outputs": [],
   "source": [
    "for d in ticks_hst[0].index:\n",
    "    dc = [tck.loc[d, ['High', 'Low', 'Volume']] for tck in ticks_hst]\n",
    "    hl = pd.Series([t['High'] for t in dc], index=ticks)\n",
    "    ll = pd.Series([t['Low'] for t in dc], index=ticks)\n",
    "    vl = pd.Series([t['Volume'] for t in dc], index=ticks)\n",
    "\n",
    "    lows[d] = ll\n",
    "    highs[d] = hl\n",
    "    volume[d] = vl\n"
   ]
  },
  {
   "cell_type": "code",
   "execution_count": 53,
   "metadata": {},
   "outputs": [],
   "source": [
    "from datetime import date\n",
    "path = \"outputs/{}-{}.csv\"\n",
    "today = date.today()\n",
    "lows.to_csv(path.format(today, 'lows'))\n",
    "highs.to_csv(path.format(today, 'highs'))\n",
    "volume.to_csv(path.format(today, 'volume'))"
   ]
  },
  {
   "cell_type": "code",
   "execution_count": null,
   "metadata": {},
   "outputs": [],
   "source": []
  }
 ],
 "metadata": {
  "kernelspec": {
   "display_name": "base",
   "language": "python",
   "name": "python3"
  },
  "language_info": {
   "codemirror_mode": {
    "name": "ipython",
    "version": 3
   },
   "file_extension": ".py",
   "mimetype": "text/x-python",
   "name": "python",
   "nbconvert_exporter": "python",
   "pygments_lexer": "ipython3",
   "version": "3.9.13"
  },
  "orig_nbformat": 4,
  "vscode": {
   "interpreter": {
    "hash": "1631014bbab4a12849cbf69a96b53575de303096c68e357abc22baa50f6dbfae"
   }
  }
 },
 "nbformat": 4,
 "nbformat_minor": 2
}
